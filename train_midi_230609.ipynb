{
  "cells": [
    {
      "cell_type": "markdown",
      "metadata": {
        "id": "view-in-github",
        "colab_type": "text"
      },
      "source": [
        "<a href=\"https://colab.research.google.com/github/mind-render/MIDI_Classification/blob/main/train_midi_230609.ipynb\" target=\"_parent\"><img src=\"https://colab.research.google.com/assets/colab-badge.svg\" alt=\"Open In Colab\"/></a>"
      ]
    },
    {
      "cell_type": "code",
      "source": [
        "from torch.utils.data import Dataset\n",
        "from PIL import Image\n",
        "\n",
        "class CustomImageDataset(Dataset):\n",
        "    def __init__(self, files, labels, class_to_idx, transform):\n",
        "        super(CustomImageDataset, self).__init__()\n",
        "        self.files = files\n",
        "        self.labels = labels\n",
        "        self.class_to_idx = class_to_idx\n",
        "        self.transform = transform\n",
        "    \n",
        "    def __len__(self):\n",
        "        return len(self.files)\n",
        "    \n",
        "    def __getitem__(self, idx):\n",
        "        # file 경로\n",
        "        file = self.files[idx]\n",
        "        # PIL.Image로 이미지 로드\n",
        "        img = Image.open(file).convert('RGB')\n",
        "        # transform 적용\n",
        "        img = self.transform(img)\n",
        "        # label 생성\n",
        "        lbl = self.class_to_idx[self.labels[idx]]\n",
        "        # image, label return\n",
        "        return img, lbl"
      ],
      "metadata": {
        "id": "RxcMEg2fIdfj"
      },
      "execution_count": null,
      "outputs": []
    },
    {
      "cell_type": "code",
      "execution_count": null,
      "metadata": {
        "id": "eNgJmLBVISEp"
      },
      "outputs": [],
      "source": [
        "import torch\n",
        "import torch.nn as nn\n",
        "import zipfile\n",
        "import glob\n",
        "import os\n",
        "import random\n",
        "from torch.utils.data import Dataset, DataLoader\n",
        "from torchvision import datasets, transforms\n",
        "from PIL import Image, UnidentifiedImageError,ImageFile\n",
        "#from CustomImageDataset import CustomImageDataset"
      ]
    },
    {
      "cell_type": "code",
      "source": [
        "device = 'cuda' if torch.cuda.is_available() else 'cpu' # GPU 사용\n",
        "print(device)"
      ],
      "metadata": {
        "colab": {
          "base_uri": "https://localhost:8080/"
        },
        "id": "pBZ69hG6gp8Q",
        "outputId": "5a113031-f53f-44e3-fd74-161f4bc4acfa"
      },
      "execution_count": null,
      "outputs": [
        {
          "output_type": "stream",
          "name": "stdout",
          "text": [
            "cuda\n"
          ]
        }
      ]
    },
    {
      "cell_type": "code",
      "source": [
        "#from model import resnet\n",
        "import torch.nn as nn\n",
        "import torch.nn.functional as F\n",
        "\n",
        "class IdentityPadding(nn.Module):\n",
        "    def __init__(self, in_channels, out_channels, stride):\n",
        "        super(IdentityPadding, self).__init__()\n",
        "        # self.pooling = nn.MaxPool2d(1, stride=stride)\n",
        "        # self.add_channels = out_channels - in_channels\n",
        "        self.conv = nn.Conv2d(in_channels, out_channels, kernel_size=1, stride=stride, bias=False)\n",
        "        # self.bn = nn.BatchNorm2d(out_channels)\n",
        "    \n",
        "    def forward(self, x):\n",
        "        # out = F.pad(x, (0,0,0,0,0,self.add_channels))\n",
        "        # out = self.pooling(out)\n",
        "        out = self.conv(x)\n",
        "        # out = self.bn(x)\n",
        "        return out\n",
        "\n",
        "class ResidualBlock(nn.Module):\n",
        "    def __init__(self, in_channels, out_channels, stride=1, down_sample=False):\n",
        "        super(ResidualBlock, self).__init__()\n",
        "        self.conv1 = nn.Conv2d(in_channels, out_channels, kernel_size=3, stride=stride, padding=1, bias=False)\n",
        "        # self.bn1 = nn.BatchNorm2d(out_channels)\n",
        "        self.relu = nn.ReLU(inplace=True)\n",
        "        self.conv2 = nn.Conv2d(out_channels, out_channels, kernel_size=3, stride=1, padding=1, bias=False)\n",
        "        # self.bn2 = nn.BatchNorm2d(out_channels)\n",
        "\n",
        "        if down_sample:\n",
        "            self.down_sample = IdentityPadding(in_channels, out_channels, stride)\n",
        "        else:\n",
        "            self.down_sample = None\n",
        "\n",
        "    def forward(self, x):\n",
        "        shortcut = x\n",
        "\n",
        "        out = self.conv1(x)\n",
        "        # out = self.bn1(out)\n",
        "        out = self.relu(out)\n",
        "        out = self.conv2(out)\n",
        "        # out = self.bn2(out)\n",
        "\n",
        "        if self.down_sample is not None:\n",
        "            shortcut = self.down_sample(x)\n",
        "        out += shortcut\n",
        "        out = self.relu(out)\n",
        "        return out\n",
        "\n",
        "\n",
        "class Resnet(nn.Module):\n",
        "    def __init__(self, num_layers, block, num_classes=10):\n",
        "        super(Resnet, self).__init__()\n",
        "        self.num_layers = num_layers\n",
        "        self.conv1 = nn.Conv2d(in_channels=3, out_channels=16, kernel_size=3, stride=1, padding=1, bias=False)\n",
        "        # self.bn1 = nn.BatchNorm2d(16)\n",
        "        self.relu1 = nn.ReLU(inplace=True)\n",
        "\n",
        "        self.layer_2n = self.get_layers(block, in_channels=16, out_channels=16, stride=1)\n",
        "        self.layer_4n = self.get_layers(block, in_channels=16, out_channels=32, stride=2)\n",
        "        self.layer_6n = self.get_layers(block, in_channels=32, out_channels=64, stride=2)\n",
        "\n",
        "        self.avg_pool = nn.AvgPool2d(kernel_size=8, stride=1)\n",
        "        self.fc_out = nn.Linear(5184, num_classes)\n",
        "\n",
        "        for m in self.modules():\n",
        "          if isinstance(m, nn.Conv2d):\n",
        "            nn.init.kaiming_normal_(m.weight, mode='fan_out', nonlinearity='relu')\n",
        "          elif isinstance(m, nn.BatchNorm2d):\n",
        "            nn.init.constant_(m.weight, 1)\n",
        "            nn.init.constant_(m.bias, 0)\n",
        "\n",
        "    def get_layers(self, block, in_channels, out_channels, stride):\n",
        "        if stride == 2:\n",
        "            down_sample = True\n",
        "        else:\n",
        "            down_sample = False\n",
        "        \n",
        "        layers_list = nn.ModuleList(\n",
        "            [block(in_channels, out_channels, stride, down_sample)]\n",
        "        )\n",
        "\n",
        "        for _ in range(self.num_layers - 1):\n",
        "            layers_list.append(block(out_channels, out_channels))\n",
        "\n",
        "        return nn.Sequential(*layers_list)\n",
        "\n",
        "    def forward(self, x):\n",
        "        x = self.conv1(x)\n",
        "        # x = self.bn1(x)\n",
        "        x = self.relu1(x)\n",
        "        x = self.layer_2n(x)\n",
        "        x = self.layer_4n(x)\n",
        "        x = self.layer_6n(x)\n",
        "        x = self.avg_pool(x)\n",
        "        x = x.view(x.size(0), -1)\n",
        "        x = self.fc_out(x)\n",
        "        return x\n",
        "    \n",
        "\n",
        "def resnet(num_classes=10):\n",
        "    block = ResidualBlock\n",
        "    model = Resnet(5, block, num_classes)\n",
        "    return model"
      ],
      "metadata": {
        "id": "_g6Z9cXlIvOu"
      },
      "execution_count": null,
      "outputs": []
    },
    {
      "cell_type": "code",
      "source": [
        "from google.colab import drive\n",
        "drive.mount('/content/drive')"
      ],
      "metadata": {
        "colab": {
          "base_uri": "https://localhost:8080/"
        },
        "id": "6tYmZ8_sa8mn",
        "outputId": "f8a7b9a5-e980-4a53-9586-57e8a5e9649c"
      },
      "execution_count": null,
      "outputs": [
        {
          "output_type": "stream",
          "name": "stdout",
          "text": [
            "Mounted at /content/drive\n"
          ]
        }
      ]
    },
    {
      "cell_type": "code",
      "execution_count": null,
      "metadata": {
        "colab": {
          "base_uri": "https://localhost:8080/"
        },
        "id": "NIduPQlrISEs",
        "outputId": "3ecb6b5e-8db8-41de-abc0-cae81bba153b"
      },
      "outputs": [
        {
          "output_type": "stream",
          "name": "stdout",
          "text": [
            "['/content/drive/MyDrive/data/bach_pianoroll_6000', '/content/drive/MyDrive/data/chopin_pianoroll_6000']\n"
          ]
        }
      ],
      "source": [
        "folders = glob.glob('/content/drive/MyDrive/data/*')\n",
        "print(folders)"
      ]
    },
    {
      "cell_type": "code",
      "execution_count": null,
      "metadata": {
        "colab": {
          "base_uri": "https://localhost:8080/"
        },
        "id": "qdzGHbGjISEt",
        "outputId": "76ea033a-119d-4f95-f263-fcad43409f6e"
      },
      "outputs": [
        {
          "output_type": "stream",
          "name": "stdout",
          "text": [
            "==============================\n",
            "train images: 9600\n",
            "train labels: 9600\n",
            "test images: 2400\n",
            "test labels: 2400\n"
          ]
        }
      ],
      "source": [
        "# train: test ratio. 0.2로 설정시 test set의 비율은 20%로 설정\n",
        "test_size = 0.2\n",
        "\n",
        "# train / test 셋의 파일을 나눕니다.\n",
        "train_images = []\n",
        "test_images = []\n",
        "\n",
        "for folder in folders:\n",
        "    label = os.path.basename(folder)\n",
        "    files = sorted(glob.glob(folder + '/*'))\n",
        "\n",
        "    # 각 Label별 이미지 데이터셋 셔플\n",
        "    random.seed(42)\n",
        "    random.shuffle(files)\n",
        "\n",
        "    idx = int(len(files) * test_size)\n",
        "    train = files[:-idx]\n",
        "    test = files[-idx:]\n",
        "\n",
        "    train_images.extend(train)\n",
        "    test_images.extend(test)\n",
        "\n",
        "# train, test 전체 이미지 셔플\n",
        "random.shuffle(train_images)\n",
        "random.shuffle(test_images)\n",
        "\n",
        "# Class to Index 생성. {'chopin': 1, 'Bach': 0}\n",
        "class_to_idx = {os.path.basename(f):idx for idx, f in enumerate(folders)}\n",
        "\n",
        "# Label 생성\n",
        "train_labels = [f.split('/')[-2] for f in train_images]\n",
        "test_labels = [f.split('/')[-2] for f in test_images]\n",
        "\n",
        "print('==='*10)\n",
        "print(f'train images: {len(train_images)}')\n",
        "print(f'train labels: {len(train_labels)}')\n",
        "print(f'test images: {len(test_images)}')\n",
        "print(f'test labels: {len(test_labels)}')"
      ]
    },
    {
      "cell_type": "code",
      "execution_count": null,
      "metadata": {
        "id": "UoTBJqdUISEu"
      },
      "outputs": [],
      "source": [
        "train_transform = transforms.Compose([\n",
        "    transforms.ToTensor(), \n",
        "#     transforms.Normalize((0.485, 0.456, 0.406), (0.229, 0.224, 0.225)), # 이미지 정규화\n",
        "])\n",
        "\n",
        "test_transform = transforms.Compose([\n",
        "    transforms.ToTensor(), \n",
        "#     transforms.Normalize((0.485, 0.456, 0.406), (0.229, 0.224, 0.225)), # 이미지 정규화\n",
        "])"
      ]
    },
    {
      "cell_type": "code",
      "execution_count": null,
      "metadata": {
        "id": "9xyaStDlISEu"
      },
      "outputs": [],
      "source": [
        "train_dataset = CustomImageDataset(train_images, train_labels, class_to_idx, train_transform)\n",
        "test_dataset = CustomImageDataset(test_images, test_labels, class_to_idx, test_transform)"
      ]
    },
    {
      "cell_type": "code",
      "execution_count": null,
      "metadata": {
        "id": "xumTIebsISEv"
      },
      "outputs": [],
      "source": [
        "# train, test 데이터 로더 생성 => 모델 학습시 입력하는 데이터셋\n",
        "train_loader = DataLoader(train_dataset, \n",
        "                          batch_size=64, \n",
        "                          shuffle=True,\n",
        "                          num_workers=2\n",
        "                         )\n",
        "\n",
        "test_loader = DataLoader(test_dataset, \n",
        "                         batch_size=64, \n",
        "                         shuffle=True,\n",
        "                         num_workers=2\n",
        "                        )"
      ]
    },
    {
      "cell_type": "code",
      "execution_count": null,
      "metadata": {
        "id": "b_CWxY6pISEv"
      },
      "outputs": [],
      "source": [
        "\n",
        "images, labels = next(iter(train_loader))\n"
      ]
    },
    {
      "cell_type": "code",
      "execution_count": null,
      "metadata": {
        "colab": {
          "base_uri": "https://localhost:8080/"
        },
        "id": "8IGB6UwAISEv",
        "outputId": "1c916981-49b2-453a-b6fa-534318e64309"
      },
      "outputs": [
        {
          "output_type": "execute_result",
          "data": {
            "text/plain": [
              "torch.Size([64, 3, 64, 64])"
            ]
          },
          "metadata": {},
          "execution_count": 45
        }
      ],
      "source": [
        "images.shape"
      ]
    },
    {
      "cell_type": "code",
      "execution_count": null,
      "metadata": {
        "colab": {
          "base_uri": "https://localhost:8080/",
          "height": 395
        },
        "id": "EJ6tdeSkISEw",
        "outputId": "0af6eb21-34d8-4d25-d97f-f8e2e671ff87"
      },
      "outputs": [
        {
          "output_type": "display_data",
          "data": {
            "text/plain": [
              "<Figure size 1200x800 with 32 Axes>"
            ],
            "image/png": "[encoded data removed]"
          },
          "metadata": {}
        }
      ],
      "source": [
        "import matplotlib.pyplot as plt\n",
        "\n",
        "# ImageFolder의 속성 값인 class_to_idx를 할당\n",
        "labels_map = {v:k for k, v in train_dataset.class_to_idx.items()}\n",
        "\n",
        "figure = plt.figure(figsize=(12, 8))\n",
        "cols, rows = 8, 4\n",
        "\n",
        "# 이미지를 출력합니다. RGB 이미지로 구성되어 있습니다.\n",
        "for i in range(1, cols * rows + 1):\n",
        "    sample_idx = torch.randint(len(images), size=(1,)).item()\n",
        "    img, label = images[sample_idx], labels[sample_idx].item()\n",
        "    figure.add_subplot(rows, cols, i)\n",
        "    plt.title(labels_map[label])\n",
        "    plt.axis(\"off\")\n",
        "    plt.imshow(torch.permute(img, (1, 2, 0)))\n",
        "plt.show()"
      ]
    },
    {
      "cell_type": "code",
      "execution_count": null,
      "metadata": {
        "id": "EnTBG2KDISEw"
      },
      "outputs": [],
      "source": [
        "\n",
        "\n",
        "model = resnet(num_classes=2)\n",
        "model = model.to(device)\n",
        "print(model)"
      ]
    },
    {
      "cell_type": "code",
      "source": [
        "print('cuda' if torch.cuda.is_available() else 'cpu')"
      ],
      "metadata": {
        "colab": {
          "base_uri": "https://localhost:8080/"
        },
        "id": "H81XXKTgjhRs",
        "outputId": "2a322ced-0d3f-476e-ed0b-f78a3242ab11"
      },
      "execution_count": null,
      "outputs": [
        {
          "output_type": "stream",
          "name": "stdout",
          "text": [
            "cuda\n"
          ]
        }
      ]
    },
    {
      "cell_type": "code",
      "execution_count": null,
      "metadata": {
        "id": "uBr2dlE_ISEw"
      },
      "outputs": [],
      "source": [
        "criterion = nn.CrossEntropyLoss()\n",
        "# optimizer = torch.optim.SGD(model.parameters(), lr=0.005, momentum=0.9, weight_decay=1e-4)\n",
        "optimizer = torch.optim.Adam(model.parameters(), lr=0.0005,betas=(0.9,0.999))\n",
        "\n",
        "def train(epoch, global_steps):\n",
        "    model.train()\n",
        "\n",
        "    train_loss = 0\n",
        "    correct = 0\n",
        "    total = 0\n",
        "\n",
        "    for batch_idx, (inputs, targets) in enumerate(train_loader):\n",
        "        global_steps += 1\n",
        "        inputs = inputs.to(device)\n",
        "        targets = targets.to(device)\n",
        "        outputs = model(inputs)\n",
        "        # print(outputs)\n",
        "        # print(targets)\n",
        "        loss = criterion(outputs, targets)\n",
        "\n",
        "        optimizer.zero_grad()\n",
        "        loss.backward()\n",
        "        optimizer.step()\n",
        "        train_loss += loss.item()\n",
        "        _, predicted = outputs.max(1)\n",
        "        total += targets.size(0)\n",
        "        correct += predicted.eq(targets).sum().item()\n",
        "    \n",
        "    acc = 100 * correct / total\n",
        "    print(f'train epoch: {epoch} [{batch_idx+1} / {len(train_loader)}] ')\n",
        "    print(f'loss: {train_loss / (batch_idx + 1)} | acc: {acc}')\n",
        "\n",
        "    return global_steps"
      ]
    },
    {
      "cell_type": "code",
      "execution_count": null,
      "metadata": {
        "id": "ggdDTET6ISEw"
      },
      "outputs": [],
      "source": [
        "def test(epoch, best_acc):\n",
        "    model.eval()\n",
        "\n",
        "    test_loss = 0\n",
        "    correct = 0\n",
        "    total = 0\n",
        "\n",
        "    with torch.no_grad():\n",
        "        for batch_idx, (inputs, targets) in enumerate(test_loader):\n",
        "            inputs = inputs.to(device)\n",
        "            targets = targets.to(device)\n",
        "            outputs = model(inputs)\n",
        "\n",
        "            loss = criterion(outputs, targets)\n",
        "\n",
        "            test_loss += loss.item()\n",
        "            _, predicted = outputs.max(1)\n",
        "            total += targets.size(0)\n",
        "            correct += predicted.eq(targets).sum().item()\n",
        "\n",
        "    acc = 100 * correct / total\n",
        "    print(f'test epoch: {epoch} [{batch_idx+1} / {len(test_loader)}] ')\n",
        "    print(f'loss: {test_loss / (batch_idx + 1)} | acc: {acc}')\n",
        "\n",
        "    if (acc > best_acc):\n",
        "        best_acc = acc\n",
        "    \n",
        "    return best_acc"
      ]
    },
    {
      "cell_type": "code",
      "execution_count": null,
      "metadata": {
        "colab": {
          "base_uri": "https://localhost:8080/"
        },
        "id": "2OK1WLhzISEx",
        "outputId": "73ee56ab-0e51-47cd-c37a-2dd86af86646"
      },
      "outputs": [
        {
          "output_type": "stream",
          "name": "stdout",
          "text": [
            "train epoch: 1 [150 / 150] \n",
            "loss: 0.7510203714172046 | acc: 66.79166666666667\n",
            "test epoch: 1 [38 / 38] \n",
            "loss: 0.30080721448910863 | acc: 86.375\n",
            "best test acc: 86.375\n",
            "train epoch: 2 [150 / 150] \n",
            "loss: 0.3321373911698659 | acc: 85.46875\n",
            "test epoch: 2 [38 / 38] \n",
            "loss: 0.23724492051099477 | acc: 89.54166666666667\n",
            "best test acc: 89.54166666666667\n",
            "train epoch: 3 [150 / 150] \n",
            "loss: 0.23937839547793072 | acc: 89.40625\n",
            "test epoch: 3 [38 / 38] \n",
            "loss: 0.20344287529587746 | acc: 91.08333333333333\n",
            "best test acc: 91.08333333333333\n",
            "train epoch: 4 [150 / 150] \n",
            "loss: 0.20175974433620772 | acc: 91.59375\n",
            "test epoch: 4 [38 / 38] \n",
            "loss: 0.19278077918447947 | acc: 91.5\n",
            "best test acc: 91.5\n",
            "train epoch: 5 [150 / 150] \n",
            "loss: 0.18836356868346532 | acc: 92.03125\n",
            "test epoch: 5 [38 / 38] \n",
            "loss: 0.2150419454433416 | acc: 90.29166666666667\n",
            "best test acc: 91.5\n",
            "train epoch: 6 [150 / 150] \n",
            "loss: 0.1506142038355271 | acc: 93.8125\n",
            "test epoch: 6 [38 / 38] \n",
            "loss: 0.1982922111882975 | acc: 91.375\n",
            "best test acc: 91.5\n",
            "train epoch: 7 [150 / 150] \n",
            "loss: 0.13631599461038907 | acc: 94.23958333333333\n",
            "test epoch: 7 [38 / 38] \n",
            "loss: 0.1489597175662455 | acc: 93.875\n",
            "best test acc: 93.875\n",
            "train epoch: 8 [150 / 150] \n",
            "loss: 0.12494660958647728 | acc: 94.85416666666667\n",
            "test epoch: 8 [38 / 38] \n",
            "loss: 0.15297719385278852 | acc: 93.70833333333333\n",
            "best test acc: 93.875\n",
            "train epoch: 9 [150 / 150] \n",
            "loss: 0.1216878284389774 | acc: 95.15625\n",
            "test epoch: 9 [38 / 38] \n",
            "loss: 0.13141971718715995 | acc: 94.66666666666667\n",
            "best test acc: 94.66666666666667\n",
            "train epoch: 10 [150 / 150] \n",
            "loss: 0.10093794773022334 | acc: 96.17708333333333\n",
            "test epoch: 10 [38 / 38] \n",
            "loss: 0.17159908725635 | acc: 93.66666666666667\n",
            "best test acc: 94.66666666666667\n",
            "train epoch: 11 [150 / 150] \n",
            "loss: 0.09461501334172984 | acc: 95.88541666666667\n",
            "test epoch: 11 [38 / 38] \n",
            "loss: 0.13412624048559288 | acc: 94.83333333333333\n",
            "best test acc: 94.83333333333333\n",
            "train epoch: 12 [150 / 150] \n",
            "loss: 0.07598386293898027 | acc: 96.95833333333333\n",
            "test epoch: 12 [38 / 38] \n",
            "loss: 0.2033750655031518 | acc: 92.16666666666667\n",
            "best test acc: 94.83333333333333\n",
            "train epoch: 13 [150 / 150] \n",
            "loss: 0.07662295098726948 | acc: 96.85416666666667\n",
            "test epoch: 13 [38 / 38] \n",
            "loss: 0.15782263772071978 | acc: 94.58333333333333\n",
            "best test acc: 94.83333333333333\n",
            "train epoch: 14 [150 / 150] \n",
            "loss: 0.06901680857874454 | acc: 97.27083333333333\n",
            "test epoch: 14 [38 / 38] \n",
            "loss: 0.14076973434145512 | acc: 94.33333333333333\n",
            "best test acc: 94.83333333333333\n",
            "train epoch: 15 [150 / 150] \n",
            "loss: 0.054240345298312606 | acc: 97.875\n",
            "test epoch: 15 [38 / 38] \n",
            "loss: 0.1490800512072287 | acc: 94.66666666666667\n",
            "best test acc: 94.83333333333333\n",
            "train epoch: 16 [150 / 150] \n",
            "loss: 0.06976390998810529 | acc: 97.10416666666667\n",
            "test epoch: 16 [38 / 38] \n",
            "loss: 0.1379882560944871 | acc: 95.625\n",
            "best test acc: 95.625\n"
          ]
        }
      ],
      "source": [
        "best_acc = 0\n",
        "epoch = 0\n",
        "global_steps = 0\n",
        "\n",
        "while True:\n",
        "    epoch += 1\n",
        "    global_steps = train(epoch, global_steps)\n",
        "    best_acc = test(epoch, best_acc)\n",
        "    print(f'best test acc: {best_acc}')\n",
        "\n",
        "    # if global_steps > 64000:\n",
        "    #     break\n",
        "    if epoch>15:\n",
        "        break"
      ]
    },
    {
      "cell_type": "code",
      "source": [],
      "metadata": {
        "id": "gcIGkyXGwR8J"
      },
      "execution_count": null,
      "outputs": []
    },
    {
      "cell_type": "code",
      "source": [
        "#저장\n",
        "torch.save(model.state_dict(), '/content/drive/My Drive/model.pth')"
      ],
      "metadata": {
        "id": "ClPC7RxqwS-z"
      },
      "execution_count": null,
      "outputs": []
    },
    {
      "cell_type": "code",
      "source": [],
      "metadata": {
        "id": "SCRy5QpTxeLV"
      },
      "execution_count": null,
      "outputs": []
    },
    {
      "cell_type": "code",
      "source": [
        "#data parallel 방식으로 학습한 모델 저장\n",
        "torch.save(model.module.state_dict(), '/content/drive/My Drive/model_backup.pth')"
      ],
      "metadata": {
        "colab": {
          "base_uri": "https://localhost:8080/",
          "height": 353
        },
        "id": "mdkPAfxZwyFq",
        "outputId": "78c140a6-7a8f-46dd-9f7e-47c972d82027"
      },
      "execution_count": null,
      "outputs": [
        {
          "output_type": "error",
          "ename": "AttributeError",
          "evalue": "ignored",
          "traceback": [
            "\u001b[0;31m---------------------------------------------------------------------------\u001b[0m",
            "\u001b[0;31mAttributeError\u001b[0m                            Traceback (most recent call last)",
            "\u001b[0;32m<ipython-input-19-5836ec9b8e39>\u001b[0m in \u001b[0;36m<cell line: 2>\u001b[0;34m()\u001b[0m\n\u001b[1;32m      1\u001b[0m \u001b[0;31m#data parallel 방식으로 학습한 모델 저장\u001b[0m\u001b[0;34m\u001b[0m\u001b[0;34m\u001b[0m\u001b[0m\n\u001b[0;32m----> 2\u001b[0;31m \u001b[0mtorch\u001b[0m\u001b[0;34m.\u001b[0m\u001b[0msave\u001b[0m\u001b[0;34m(\u001b[0m\u001b[0mmodel\u001b[0m\u001b[0;34m.\u001b[0m\u001b[0mmodule\u001b[0m\u001b[0;34m.\u001b[0m\u001b[0mstate_dict\u001b[0m\u001b[0;34m(\u001b[0m\u001b[0;34m)\u001b[0m\u001b[0;34m,\u001b[0m \u001b[0;34m'/content/drive/My Drive/model_backup.pth'\u001b[0m\u001b[0;34m)\u001b[0m\u001b[0;34m\u001b[0m\u001b[0;34m\u001b[0m\u001b[0m\n\u001b[0m",
            "\u001b[0;32m/usr/local/lib/python3.10/dist-packages/torch/nn/modules/module.py\u001b[0m in \u001b[0;36m__getattr__\u001b[0;34m(self, name)\u001b[0m\n\u001b[1;32m   1612\u001b[0m             \u001b[0;32mif\u001b[0m \u001b[0mname\u001b[0m \u001b[0;32min\u001b[0m \u001b[0mmodules\u001b[0m\u001b[0;34m:\u001b[0m\u001b[0;34m\u001b[0m\u001b[0;34m\u001b[0m\u001b[0m\n\u001b[1;32m   1613\u001b[0m                 \u001b[0;32mreturn\u001b[0m \u001b[0mmodules\u001b[0m\u001b[0;34m[\u001b[0m\u001b[0mname\u001b[0m\u001b[0;34m]\u001b[0m\u001b[0;34m\u001b[0m\u001b[0;34m\u001b[0m\u001b[0m\n\u001b[0;32m-> 1614\u001b[0;31m         raise AttributeError(\"'{}' object has no attribute '{}'\".format(\n\u001b[0m\u001b[1;32m   1615\u001b[0m             type(self).__name__, name))\n\u001b[1;32m   1616\u001b[0m \u001b[0;34m\u001b[0m\u001b[0m\n",
            "\u001b[0;31mAttributeError\u001b[0m: 'Resnet' object has no attribute 'module'"
          ]
        }
      ]
    },
    {
      "cell_type": "code",
      "source": [
        "from google.colab.patches import cv2_imshow\n",
        "import sys\n",
        "import numpy as np\n",
        "import cv2\n",
        "\n",
        "model.eval()\n",
        "test_loss = 0\n",
        "correct = 0\n",
        "total = 0\n",
        "inputs = cv2.imread('/content/drive/MyDrive/chopin_pianoroll/chopin11_76.png')\n",
        "# print(inputs.shape)\n",
        "\n",
        "cv2_imshow(inputs)\n",
        "inputs = torch.Tensor(inputs.transpose(2,0,1))\n",
        "inputs = inputs.unsqueeze(dim=0)\n",
        "\n",
        "print(inputs.shape)\n",
        "# with torch.no_grad():\n",
        "\n",
        "#     outputs = model(inputs)\n",
        "#     print(outputs)\n",
        "\n",
        "\n"
      ],
      "metadata": {
        "colab": {
          "base_uri": "https://localhost:8080/",
          "height": 245
        },
        "id": "tEYvlQfY2Yw9",
        "outputId": "dfa583f6-e094-4148-dfde-a9ef688a5294"
      },
      "execution_count": null,
      "outputs": [
        {
          "output_type": "error",
          "ename": "NameError",
          "evalue": "ignored",
          "traceback": [
            "\u001b[0;31m---------------------------------------------------------------------------\u001b[0m",
            "\u001b[0;31mNameError\u001b[0m                                 Traceback (most recent call last)",
            "\u001b[0;32m<ipython-input-1-a1e249aab87a>\u001b[0m in \u001b[0;36m<cell line: 6>\u001b[0;34m()\u001b[0m\n\u001b[1;32m      4\u001b[0m \u001b[0;32mimport\u001b[0m \u001b[0mcv2\u001b[0m\u001b[0;34m\u001b[0m\u001b[0;34m\u001b[0m\u001b[0m\n\u001b[1;32m      5\u001b[0m \u001b[0;34m\u001b[0m\u001b[0m\n\u001b[0;32m----> 6\u001b[0;31m \u001b[0mmodel\u001b[0m\u001b[0;34m.\u001b[0m\u001b[0meval\u001b[0m\u001b[0;34m(\u001b[0m\u001b[0;34m)\u001b[0m\u001b[0;34m\u001b[0m\u001b[0;34m\u001b[0m\u001b[0m\n\u001b[0m\u001b[1;32m      7\u001b[0m \u001b[0mtest_loss\u001b[0m \u001b[0;34m=\u001b[0m \u001b[0;36m0\u001b[0m\u001b[0;34m\u001b[0m\u001b[0;34m\u001b[0m\u001b[0m\n\u001b[1;32m      8\u001b[0m \u001b[0mcorrect\u001b[0m \u001b[0;34m=\u001b[0m \u001b[0;36m0\u001b[0m\u001b[0;34m\u001b[0m\u001b[0;34m\u001b[0m\u001b[0m\n",
            "\u001b[0;31mNameError\u001b[0m: name 'model' is not defined"
          ]
        }
      ]
    },
    {
      "cell_type": "code",
      "source": [
        "with torch.no_grad():\n",
        "    inputs = inputs.to(device)\n",
        "    \n",
        "    outputs = model(inputs)\n",
        "    _, predicted = outputs.max(1)\n",
        "    print(predicted)"
      ],
      "metadata": {
        "colab": {
          "base_uri": "https://localhost:8080/"
        },
        "id": "U12B00Fu6i3_",
        "outputId": "c067e805-4919-423a-c20c-ff922ffd3f39"
      },
      "execution_count": null,
      "outputs": [
        {
          "output_type": "stream",
          "name": "stdout",
          "text": [
            "tensor([1], device='cuda:0')\n"
          ]
        }
      ]
    }
  ],
  "metadata": {
    "kernelspec": {
      "display_name": "Python 3",
      "name": "python3"
    },
    "language_info": {
      "codemirror_mode": {
        "name": "ipython",
        "version": 3
      },
      "file_extension": ".py",
      "mimetype": "text/x-python",
      "name": "python",
      "nbconvert_exporter": "python",
      "pygments_lexer": "ipython3",
      "version": "3.9.6"
    },
    "orig_nbformat": 4,
    "colab": {
      "provenance": [],
      "gpuType": "V100",
      "history_visible": true,
      "toc_visible": true,
      "include_colab_link": true
    },
    "accelerator": "GPU"
  },
  "nbformat": 4,
  "nbformat_minor": 0
}